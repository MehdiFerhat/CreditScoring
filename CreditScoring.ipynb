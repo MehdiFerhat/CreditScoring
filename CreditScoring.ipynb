{
 "cells": [
  {
   "cell_type": "code",
   "execution_count": 6,
   "id": "3f3db656-9ceb-41af-9d80-4fd363e40288",
   "metadata": {},
   "outputs": [],
   "source": [
    "import matplotlib.pyplot as plt\n",
    "import numpy as np\n",
    "import pandas as pd\n",
    "from sklearn.pipeline import Pipeline\n",
    "from tqdm import tqdm\n",
    "from sklearn.impute import SimpleImputer\n",
    "from sklearn.compose import ColumnTransformer\n",
    "from sklearn.preprocessing import FunctionTransformer\n",
    "from sklearn.model_selection import train_test_split, GridSearchCV\n",
    "from sklearn.preprocessing import OneHotEncoder, StandardScaler\n",
    "from sklearn.linear_model import  LogisticRegression\n",
    "from sklearn.ensemble import RandomForestClassifier\n",
    "from sklearn.neighbors import KNeighborsClassifier\n",
    "from sklearn.svm import SVC\n",
    "import seaborn as sns\n",
    "from sklearn.metrics import accuracy_score\n",
    "from pprint import pprint\n",
    "\n",
    "from sklearn.base import BaseEstimator, TransformerMixin"
   ]
  },
  {
   "cell_type": "code",
   "execution_count": 7,
   "id": "426beb4a-0b67-47bb-ad5b-38425666f7f1",
   "metadata": {},
   "outputs": [],
   "source": [
    "df = pd.read_csv(\"C:\\\\Users\\\\Mehdi\\\\PycharmProjects\\\\BackToCoding\\\\Machine Learning\\\\dataframes\\\\hmeq.csv\")"
   ]
  },
  {
   "cell_type": "code",
   "execution_count": 8,
   "id": "19460e3a-1536-4528-92d2-3e4099abe3ce",
   "metadata": {},
   "outputs": [
    {
     "data": {
      "text/html": [
       "<div>\n",
       "<style scoped>\n",
       "    .dataframe tbody tr th:only-of-type {\n",
       "        vertical-align: middle;\n",
       "    }\n",
       "\n",
       "    .dataframe tbody tr th {\n",
       "        vertical-align: top;\n",
       "    }\n",
       "\n",
       "    .dataframe thead th {\n",
       "        text-align: right;\n",
       "    }\n",
       "</style>\n",
       "<table border=\"1\" class=\"dataframe\">\n",
       "  <thead>\n",
       "    <tr style=\"text-align: right;\">\n",
       "      <th></th>\n",
       "      <th>BAD</th>\n",
       "      <th>LOAN</th>\n",
       "      <th>MORTDUE</th>\n",
       "      <th>VALUE</th>\n",
       "      <th>REASON</th>\n",
       "      <th>JOB</th>\n",
       "      <th>YOJ</th>\n",
       "      <th>DEROG</th>\n",
       "      <th>DELINQ</th>\n",
       "      <th>CLAGE</th>\n",
       "      <th>NINQ</th>\n",
       "      <th>CLNO</th>\n",
       "      <th>DEBTINC</th>\n",
       "    </tr>\n",
       "  </thead>\n",
       "  <tbody>\n",
       "    <tr>\n",
       "      <th>0</th>\n",
       "      <td>1</td>\n",
       "      <td>1100</td>\n",
       "      <td>25860.0</td>\n",
       "      <td>39025.0</td>\n",
       "      <td>HomeImp</td>\n",
       "      <td>Other</td>\n",
       "      <td>10.5</td>\n",
       "      <td>0.0</td>\n",
       "      <td>0.0</td>\n",
       "      <td>94.366667</td>\n",
       "      <td>1.0</td>\n",
       "      <td>9.0</td>\n",
       "      <td>NaN</td>\n",
       "    </tr>\n",
       "    <tr>\n",
       "      <th>1</th>\n",
       "      <td>1</td>\n",
       "      <td>1300</td>\n",
       "      <td>70053.0</td>\n",
       "      <td>68400.0</td>\n",
       "      <td>HomeImp</td>\n",
       "      <td>Other</td>\n",
       "      <td>7.0</td>\n",
       "      <td>0.0</td>\n",
       "      <td>2.0</td>\n",
       "      <td>121.833333</td>\n",
       "      <td>0.0</td>\n",
       "      <td>14.0</td>\n",
       "      <td>NaN</td>\n",
       "    </tr>\n",
       "    <tr>\n",
       "      <th>2</th>\n",
       "      <td>1</td>\n",
       "      <td>1500</td>\n",
       "      <td>13500.0</td>\n",
       "      <td>16700.0</td>\n",
       "      <td>HomeImp</td>\n",
       "      <td>Other</td>\n",
       "      <td>4.0</td>\n",
       "      <td>0.0</td>\n",
       "      <td>0.0</td>\n",
       "      <td>149.466667</td>\n",
       "      <td>1.0</td>\n",
       "      <td>10.0</td>\n",
       "      <td>NaN</td>\n",
       "    </tr>\n",
       "    <tr>\n",
       "      <th>3</th>\n",
       "      <td>1</td>\n",
       "      <td>1500</td>\n",
       "      <td>NaN</td>\n",
       "      <td>NaN</td>\n",
       "      <td>NaN</td>\n",
       "      <td>NaN</td>\n",
       "      <td>NaN</td>\n",
       "      <td>NaN</td>\n",
       "      <td>NaN</td>\n",
       "      <td>NaN</td>\n",
       "      <td>NaN</td>\n",
       "      <td>NaN</td>\n",
       "      <td>NaN</td>\n",
       "    </tr>\n",
       "    <tr>\n",
       "      <th>4</th>\n",
       "      <td>0</td>\n",
       "      <td>1700</td>\n",
       "      <td>97800.0</td>\n",
       "      <td>112000.0</td>\n",
       "      <td>HomeImp</td>\n",
       "      <td>Office</td>\n",
       "      <td>3.0</td>\n",
       "      <td>0.0</td>\n",
       "      <td>0.0</td>\n",
       "      <td>93.333333</td>\n",
       "      <td>0.0</td>\n",
       "      <td>14.0</td>\n",
       "      <td>NaN</td>\n",
       "    </tr>\n",
       "  </tbody>\n",
       "</table>\n",
       "</div>"
      ],
      "text/plain": [
       "   BAD  LOAN  MORTDUE     VALUE   REASON     JOB   YOJ  DEROG  DELINQ  \\\n",
       "0    1  1100  25860.0   39025.0  HomeImp   Other  10.5    0.0     0.0   \n",
       "1    1  1300  70053.0   68400.0  HomeImp   Other   7.0    0.0     2.0   \n",
       "2    1  1500  13500.0   16700.0  HomeImp   Other   4.0    0.0     0.0   \n",
       "3    1  1500      NaN       NaN      NaN     NaN   NaN    NaN     NaN   \n",
       "4    0  1700  97800.0  112000.0  HomeImp  Office   3.0    0.0     0.0   \n",
       "\n",
       "        CLAGE  NINQ  CLNO  DEBTINC  \n",
       "0   94.366667   1.0   9.0      NaN  \n",
       "1  121.833333   0.0  14.0      NaN  \n",
       "2  149.466667   1.0  10.0      NaN  \n",
       "3         NaN   NaN   NaN      NaN  \n",
       "4   93.333333   0.0  14.0      NaN  "
      ]
     },
     "execution_count": 8,
     "metadata": {},
     "output_type": "execute_result"
    }
   ],
   "source": [
    "df.head()"
   ]
  },
  {
   "cell_type": "code",
   "execution_count": 9,
   "id": "58f7ec1a-f362-4dbe-a70c-30852434aab0",
   "metadata": {},
   "outputs": [
    {
     "name": "stdout",
     "output_type": "stream",
     "text": [
      "BAD - modalités : 2 - aperçu : [1 0] \n",
      "\n",
      "LOAN - modalités : 540 - aperçu : [1100 1300 1500 1700 1800 2000 2100 2200 2300 2400] \n",
      "\n",
      "MORTDUE - modalités : 5053 - aperçu : [25860. 70053. 13500.    nan 97800. 30548. 48649. 28502. 32700. 22608.] \n",
      "\n",
      "VALUE - modalités : 5381 - aperçu : [ 39025.  68400.  16700.     nan 112000.  40320.  57037.  43034.  46740.\n",
      "  62250.] \n",
      "\n",
      "REASON - modalités : 2 - aperçu : ['HomeImp' nan 'DebtCon'] \n",
      "\n",
      "JOB - modalités : 6 - aperçu : ['Other' nan 'Office' 'Sales' 'Mgr' 'ProfExe' 'Self'] \n",
      "\n",
      "YOJ - modalités : 99 - aperçu : [10.5  7.   4.   nan  3.   9.   5.  11.  16.  18. ] \n",
      "\n",
      "DEROG - modalités : 11 - aperçu : [ 0. nan  3.  2.  1.  4.  5.  6.  7.  8.] \n",
      "\n",
      "DELINQ - modalités : 14 - aperçu : [ 0.  2. nan  1.  6. 15.  4.  3.  5.  7.] \n",
      "\n",
      "CLAGE - modalités : 5314 - aperçu : [ 94.36666667 121.83333333 149.46666667          nan  93.33333333\n",
      " 101.46600191  77.1         88.76602988 216.93333333 115.8       ] \n",
      "\n",
      "NINQ - modalités : 16 - aperçu : [ 1.  0. nan  2.  3.  5. 14. 10.  4.  9.] \n",
      "\n",
      "CLNO - modalités : 62 - aperçu : [ 9. 14. 10. nan  8. 17. 12. 13. 25. 24.] \n",
      "\n",
      "DEBTINC - modalités : 4693 - aperçu : [        nan 37.11361356 36.88489409  3.7113123  31.58850318 38.26360073\n",
      " 29.68182704 30.05113629 29.91585903 36.211348  ] \n",
      "\n"
     ]
    }
   ],
   "source": [
    "for column in df.columns:\n",
    "    if df[column].nunique() == 0 or df[column].nunique() == 1:\n",
    "        df.drop(columns=column,axis=1,inplace=True)\n",
    "        print(f'{column} - supprimée')\n",
    "\n",
    "    else:\n",
    "        print(f'{column}', '- modalités :', df[column].nunique(), '- aperçu :', df[column].unique()[:10], '\\n')"
   ]
  },
  {
   "cell_type": "code",
   "execution_count": 10,
   "id": "33e08a02-147e-4d67-b5bd-301a9a9b3ff9",
   "metadata": {},
   "outputs": [],
   "source": [
    "variables_type = {}\n",
    "\n",
    "for types in df.dtypes:\n",
    "    variables_type[str(types)] = []"
   ]
  },
  {
   "cell_type": "code",
   "execution_count": 11,
   "id": "c3036868-e516-4093-8521-9f4b7db2fe55",
   "metadata": {},
   "outputs": [
    {
     "name": "stdout",
     "output_type": "stream",
     "text": [
      "La variable BAD possède 2 modalités : [1 0] \n",
      "\n",
      "La variable LOAN possède 540 modalités : [1100 1300 1500 1700 1800 2000 2100 2200 2300 2400 2500 2800 2900 3000\n",
      " 3100] \n",
      "\n",
      "La variable MORTDUE possède 5053 modalités : [25860. 70053. 13500.    nan 97800. 30548. 48649. 28502. 32700. 22608.\n",
      " 20627. 45000. 64536. 71000. 24280.] \n",
      "\n",
      "La variable VALUE possède 5381 modalités : [ 39025.  68400.  16700.     nan 112000.  40320.  57037.  43034.  46740.\n",
      "  62250.  29800.  55000.  87400.  83850.  34687.] \n",
      "\n",
      "La variable REASON possède 2 modalités : ['HomeImp' nan 'DebtCon'] \n",
      "\n",
      "La variable JOB possède 6 modalités : ['Other' nan 'Office' 'Sales' 'Mgr' 'ProfExe' 'Self'] \n",
      "\n",
      "La variable YOJ possède 99 modalités : [10.5  7.   4.   nan  3.   9.   5.  11.  16.  18.   2.5  8.  19.   4.5\n",
      "  2. ] \n",
      "\n",
      "La variable DEROG possède 11 modalités : [ 0. nan  3.  2.  1.  4.  5.  6.  7.  8.  9. 10.] \n",
      "\n",
      "La variable DELINQ possède 14 modalités : [ 0.  2. nan  1.  6. 15.  4.  3.  5.  7.  8. 10. 12. 11. 13.] \n",
      "\n",
      "La variable CLAGE possède 5314 modalités : [ 94.36666667 121.83333333 149.46666667          nan  93.33333333\n",
      " 101.46600191  77.1         88.76602988 216.93333333 115.8\n",
      " 122.53333333  86.06666667 147.13333333 123.         300.86666667] \n",
      "\n",
      "La variable NINQ possède 16 modalités : [ 1.  0. nan  2.  3.  5. 14. 10.  4.  9.  8.  6.  7. 11. 12.] \n",
      "\n",
      "La variable CLNO possède 62 modalités : [ 9. 14. 10. nan  8. 17. 12. 13. 25. 24. 16. 22.  0.  4. 21.] \n",
      "\n",
      "La variable DEBTINC possède 4693 modalités : [        nan 37.11361356 36.88489409  3.7113123  31.58850318 38.26360073\n",
      " 29.68182704 30.05113629 29.91585903 36.211348   49.20639579 32.05978327\n",
      " 40.11567728 35.55353879 42.90999735] \n",
      "\n"
     ]
    }
   ],
   "source": [
    "for column in df.columns:\n",
    "    \n",
    "    if df[column].nunique() == 1 or df[column].nunique() == 0:\n",
    "        df.drop(columns=column,axis=1,inplace=True)\n",
    "        print('La colonne', column, 'a été supprimée.' + '\\n')\n",
    "\n",
    "    else:\n",
    "\n",
    "        variables_type[str(df[column].dtype)].append(column)\n",
    "        print('La variable', column, 'possède', df[column].nunique(), 'modalités :', df[column].unique()[:15],'\\n')"
   ]
  },
  {
   "cell_type": "code",
   "execution_count": 12,
   "id": "77e7cc30-a2f6-41f1-a6e5-e440b775b8aa",
   "metadata": {},
   "outputs": [
    {
     "data": {
      "text/plain": [
       "dict_items([('int64', ['BAD', 'LOAN']), ('float64', ['MORTDUE', 'VALUE', 'YOJ', 'DEROG', 'DELINQ', 'CLAGE', 'NINQ', 'CLNO', 'DEBTINC']), ('object', ['REASON', 'JOB'])])"
      ]
     },
     "execution_count": 12,
     "metadata": {},
     "output_type": "execute_result"
    }
   ],
   "source": [
    "variables_type.items()"
   ]
  },
  {
   "cell_type": "code",
   "execution_count": 13,
   "id": "daaaba94-881c-461b-95c8-7316748c5b14",
   "metadata": {},
   "outputs": [],
   "source": [
    "variables_type['int64'].remove('BAD')"
   ]
  },
  {
   "cell_type": "code",
   "execution_count": 14,
   "id": "e0401474-42ef-49f2-8747-e56ea32e6538",
   "metadata": {},
   "outputs": [
    {
     "data": {
      "text/plain": [
       "['LOAN']"
      ]
     },
     "execution_count": 14,
     "metadata": {},
     "output_type": "execute_result"
    }
   ],
   "source": [
    "variables_type['int64']"
   ]
  },
  {
   "cell_type": "code",
   "execution_count": 15,
   "id": "797c39f9-4245-483a-9d76-07e0e9cc65af",
   "metadata": {},
   "outputs": [],
   "source": [
    "numerical_features = variables_type['int64'] + variables_type['float64']"
   ]
  },
  {
   "cell_type": "code",
   "execution_count": 16,
   "id": "e0910f21-2e5f-4744-b70f-c04c771a4745",
   "metadata": {},
   "outputs": [],
   "source": [
    "categorical_features = variables_type['object']"
   ]
  },
  {
   "cell_type": "markdown",
   "id": "c717d831-9547-422d-a250-151fe0f846e7",
   "metadata": {},
   "source": [
    "## Adding custom transformers"
   ]
  },
  {
   "cell_type": "code",
   "execution_count": 177,
   "id": "b8fd9ac6-09b0-4c3e-94b0-9f0bb3e16a9a",
   "metadata": {},
   "outputs": [],
   "source": [
    "class ModeImputer(BaseEstimator, TransformerMixin):\n",
    "\n",
    "    def __init__(self,strategy):\n",
    "\n",
    "        self.strategy = strategy\n",
    "\n",
    "    def fit(self,X, y=None):\n",
    "        return self\n",
    "\n",
    "    def transform(self,X,y=None):\n",
    "        for elements in categorical_features:\n",
    "            if self.strategy == 'simple_mode':\n",
    "                X[elements].fillna(X[elements].mode()[0],inplace=True)\n",
    "            if self.strategy == 'target_mode':\n",
    "                X[elements].fillna(df.groupby('BAD')[elements].transform(lambda x: x.mode()[0]),inplace=True)\n",
    "        return X\n",
    "\n",
    "class NumericImputer(BaseEstimator, TransformerMixin):\n",
    "\n",
    "    def __init__(self, strategy):\n",
    "\n",
    "        self.strategy = strategy\n",
    "        \n",
    "\n",
    "    def fit(self, X,y=None):\n",
    "        return self\n",
    "\n",
    "    def transform(self,X,y=None):\n",
    "        for elements in numerical_features:\n",
    "            if self.strategy == 'mean':\n",
    "                X[elements].fillna(X[elements].mean(),inplace=True)\n",
    "                \n",
    "            if self.strategy == 'target_mean':\n",
    "                X[elements].fillna(df.groupby('BAD')[elements].transform('mean'),inplace=True)\n",
    "                \n",
    "            if self.strategy == 'median':\n",
    "                X[elements].fillna(X[elements].median(),inplace=True)\n",
    "            \n",
    "            if self.strategy == 'target_median':\n",
    "                X[elements].fillna(df.groupby('BAD')[elements].transform('median'),inplace=True)\n",
    "        return X\n",
    "\n",
    "        \n",
    "        \n",
    "        "
   ]
  },
  {
   "cell_type": "code",
   "execution_count": 178,
   "id": "acc751ec-e9c4-4144-824c-65fbceb90231",
   "metadata": {},
   "outputs": [],
   "source": [
    "numerical_transformer = Pipeline(steps=[\n",
    "\n",
    "    ('imputer', NumericImputer(strategy='mean')),\n",
    "    ('scaler', StandardScaler())\n",
    "    \n",
    "])\n",
    "\n",
    "categorical_transformer = Pipeline(steps=[\n",
    "\n",
    "    ('imputer', ModeImputer(strategy='simple_mode')),\n",
    "    ('ohe', OneHotEncoder())\n",
    "    \n",
    "])\n",
    "\n",
    "preprocessor = ColumnTransformer(transformers=[\n",
    "\n",
    "    ('numeric', numerical_transformer, numerical_features),\n",
    "    ('cat', categorical_transformer, categorical_features)\n",
    "                                 \n",
    "])\n",
    "\n",
    "classifiers = [\n",
    "    \n",
    "    ('Logistic Regression', LogisticRegression(max_iter=1000)),\n",
    "    ('Random Forest', RandomForestClassifier())\n",
    "    \n",
    "]\n",
    "\n",
    "params_grid = {\n",
    "\n",
    "    'Logistic Regression' : {'preprocessor__numeric__imputer__strategy' : ['mean', 'target_mean', 'median', 'target_median'], 'preprocessor__cat__imputer__strategy' : ['simple_mode','target_mode'],'classifiers__C' : [0.25,0.5,0.75,1]},\n",
    "    'Random Forest' : {'preprocessor__numeric__imputer__strategy' : ['mean', 'target_mean', 'median', 'target_median'], 'preprocessor__cat__imputer__strategy' : ['simple_mode','target_mode'], 'classifiers__max_depth' : [50,75,100]}\n",
    "    \n",
    "}"
   ]
  },
  {
   "cell_type": "code",
   "execution_count": 179,
   "id": "341e3d1f-2892-4ea4-963e-60a9c4765098",
   "metadata": {},
   "outputs": [
    {
     "name": "stderr",
     "output_type": "stream",
     "text": [
      "100%|██████████| 2/2 [02:05<00:00, 62.58s/it]\n"
     ]
    }
   ],
   "source": [
    "X = df.drop('BAD',axis=1)\n",
    "y = df['BAD']\n",
    "\n",
    "X_train, X_test, y_train, y_test = train_test_split(X,y, test_size=0.2)\n",
    "\n",
    "\n",
    "results = {}\n",
    "predictions = {}\n",
    "\n",
    "for classifier_name, classifier in tqdm(classifiers):\n",
    "\n",
    "    pipeline = Pipeline([\n",
    "\n",
    "    ('preprocessor', preprocessor),\n",
    "    ('classifiers', classifier)\n",
    "        \n",
    "    ])\n",
    "\n",
    "    model = GridSearchCV(pipeline, params_grid[classifier_name])\n",
    "    model = model.fit(X_train, y_train)\n",
    "\n",
    "    y_pred = model.predict(X_test)\n",
    "    predictions[classifier_name] = y_pred\n",
    "\n",
    "    results[classifier_name] = {'Best params' : model.best_params_, 'Accuracy on train' : model.best_score_, \n",
    "                                'Accuracy on test': accuracy_score(y_test, y_pred), 'Best model' : model.best_estimator_}\n"
   ]
  },
  {
   "cell_type": "code",
   "execution_count": 180,
   "id": "476524ae-b731-45b5-9159-8f176b1740db",
   "metadata": {},
   "outputs": [
    {
     "data": {
      "text/plain": [
       "0.8565436241610739"
      ]
     },
     "execution_count": 180,
     "metadata": {},
     "output_type": "execute_result"
    }
   ],
   "source": [
    "results['Logistic Regression']['Accuracy on test']"
   ]
  },
  {
   "cell_type": "code",
   "execution_count": 181,
   "id": "9aa2150f-e9de-49ab-8db6-33d950d240cd",
   "metadata": {},
   "outputs": [
    {
     "data": {
      "text/plain": [
       "0.9639261744966443"
      ]
     },
     "execution_count": 181,
     "metadata": {},
     "output_type": "execute_result"
    }
   ],
   "source": [
    "results['Random Forest']['Accuracy on test']"
   ]
  },
  {
   "cell_type": "code",
   "execution_count": 184,
   "id": "c494e7ad-c0fb-4f00-b75e-351e6c34d670",
   "metadata": {},
   "outputs": [
    {
     "data": {
      "text/plain": [
       "{'Best params': {'classifiers__C': 1,\n",
       "  'preprocessor__cat__imputer__strategy': 'simple_mode',\n",
       "  'preprocessor__numeric__imputer__strategy': 'target_mean'},\n",
       " 'Accuracy on train': 0.8708069628955016,\n",
       " 'Accuracy on test': 0.8565436241610739,\n",
       " 'Best model': Pipeline(steps=[('preprocessor',\n",
       "                  ColumnTransformer(transformers=[('numeric',\n",
       "                                                   Pipeline(steps=[('imputer',\n",
       "                                                                    NumericImputer(strategy='target_mean')),\n",
       "                                                                   ('scaler',\n",
       "                                                                    StandardScaler())]),\n",
       "                                                   ['LOAN', 'MORTDUE', 'VALUE',\n",
       "                                                    'YOJ', 'DEROG', 'DELINQ',\n",
       "                                                    'CLAGE', 'NINQ', 'CLNO',\n",
       "                                                    'DEBTINC']),\n",
       "                                                  ('cat',\n",
       "                                                   Pipeline(steps=[('imputer',\n",
       "                                                                    ModeImputer(strategy='simple_mode')),\n",
       "                                                                   ('ohe',\n",
       "                                                                    OneHotEncoder())]),\n",
       "                                                   ['REASON', 'JOB'])])),\n",
       "                 ('classifiers', LogisticRegression(C=1, max_iter=1000))])}"
      ]
     },
     "execution_count": 184,
     "metadata": {},
     "output_type": "execute_result"
    }
   ],
   "source": [
    "results['Logistic Regression']"
   ]
  },
  {
   "cell_type": "code",
   "execution_count": 186,
   "id": "463fa01d-544a-49a9-9887-914f6ff1f2fc",
   "metadata": {},
   "outputs": [
    {
     "name": "stdout",
     "output_type": "stream",
     "text": [
      "              precision    recall  f1-score   support\n",
      "\n",
      "           0       0.87      0.97      0.91       946\n",
      "           1       0.77      0.44      0.56       246\n",
      "\n",
      "    accuracy                           0.86      1192\n",
      "   macro avg       0.82      0.70      0.74      1192\n",
      "weighted avg       0.85      0.86      0.84      1192\n",
      "\n"
     ]
    }
   ],
   "source": [
    "from sklearn.metrics import classification_report\n",
    "\n",
    "print(classification_report(y_test,predictions['Logistic Regression']))"
   ]
  }
 ],
 "metadata": {
  "kernelspec": {
   "display_name": "Python 3 (ipykernel)",
   "language": "python",
   "name": "python3"
  },
  "language_info": {
   "codemirror_mode": {
    "name": "ipython",
    "version": 3
   },
   "file_extension": ".py",
   "mimetype": "text/x-python",
   "name": "python",
   "nbconvert_exporter": "python",
   "pygments_lexer": "ipython3",
   "version": "3.9.13"
  }
 },
 "nbformat": 4,
 "nbformat_minor": 5
}
